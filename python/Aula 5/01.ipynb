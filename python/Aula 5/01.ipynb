{
 "cells": [
  {
   "cell_type": "code",
   "execution_count": 8,
   "metadata": {},
   "outputs": [
    {
     "name": "stdout",
     "output_type": "stream",
     "text": [
      "<class 'tuple'>\n",
      "<class 'str'>\n",
      "<class 'int'>\n",
      "<class 'bool'>\n"
     ]
    }
   ],
   "source": [
    "faturamento = 1000,00\n",
    "print(type(faturamento))\n",
    "\n",
    "faturamento = '1000'\n",
    "print(type(faturamento))\n",
    "\n",
    "faturamento = 1000\n",
    "print(type(faturamento))\n",
    "\n",
    "custo = 400\n",
    "lucro = True if custo > faturamento else False\n",
    "print(type(lucro))"
   ]
  },
  {
   "cell_type": "code",
   "execution_count": 11,
   "metadata": {},
   "outputs": [
    {
     "name": "stdout",
     "output_type": "stream",
     "text": [
      "O faturamento é de :  1000\n",
      "O faturamento é de : 1000\n"
     ]
    }
   ],
   "source": [
    "#concatenando textos\n",
    "faturamento = 1000\n",
    "print(\"O faturamento é de : \" , faturamento)\n",
    "print(\"O faturamento é de : \" + str(faturamento))"
   ]
  },
  {
   "cell_type": "code",
   "execution_count": 18,
   "metadata": {},
   "outputs": [
    {
     "name": "stdout",
     "output_type": "stream",
     "text": [
      "O faturamento é de 1500\n",
      "Para calcular o lucro '1500' basta subtrair o custo '500' do faturamento '2000' \n"
     ]
    }
   ],
   "source": [
    "faturamento = 2000\n",
    "custo = 500\n",
    "lucro = faturamento - custo\n",
    "\n",
    "print(\"O faturamento é de {}\".format(lucro))\n",
    "print(\"Para calcular o lucro '{}' basta subtrair o custo '{}' do faturamento '{}' \".format(lucro,custo,faturamento))\n"
   ]
  }
 ],
 "metadata": {
  "kernelspec": {
   "display_name": "Python 3",
   "language": "python",
   "name": "python3"
  },
  "language_info": {
   "codemirror_mode": {
    "name": "ipython",
    "version": 3
   },
   "file_extension": ".py",
   "mimetype": "text/x-python",
   "name": "python",
   "nbconvert_exporter": "python",
   "pygments_lexer": "ipython3",
   "version": "3.12.1"
  }
 },
 "nbformat": 4,
 "nbformat_minor": 2
}
