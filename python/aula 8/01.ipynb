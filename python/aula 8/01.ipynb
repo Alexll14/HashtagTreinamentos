{
 "cells": [
  {
   "cell_type": "code",
   "execution_count": 8,
   "metadata": {},
   "outputs": [
    {
     "name": "stdout",
     "output_type": "stream",
     "text": [
      "2\n"
     ]
    }
   ],
   "source": [
    "# produtos = [\"tv\",\"playstation\",\"monitor\",\"mouse\",\"teclado\",\"geladeira\"]\n",
    "# estoque = [100,1000,200,30,40,50]\n",
    "\n",
    "# i = produtos.index(\"monitor\")\n",
    "# print(i)\n",
    "\n",
    "produtos = []\n",
    "estoque = []"
   ]
  },
  {
   "cell_type": "code",
   "execution_count": 67,
   "metadata": {},
   "outputs": [
    {
     "name": "stdout",
     "output_type": "stream",
     "text": [
      "Nome de produto invalido!\n",
      "Nome de produto invalido!\n",
      "Nome de produto invalido!\n",
      "Nome de produto invalido!\n",
      "Nome de produto invalido!\n",
      "Nome de produto invalido!\n",
      "Não há campos vazios\n",
      "['Tv', 'Playstation', 'Monitor', 'Mouse', 'Teclado', 'Geladeira', 'Jaqueta', 'Mousepad', 'Action figure', 'Controle 8bit do', 'Ps4', 'Hq mano da lua', 'Hq mano da lua versão golden', 'Caneta', 'Lapis', 'Copo', 'Album de rock', 'Poster zelda', '8 ball', 'Nunchaku', 'Baralho', 'Nintendo 64', 'Giftcard']\n",
      "[100, 1000, 200, 30, 40, 50, 500, 40, 20, 300, 100, 1, 20, 400, 900, 40, 50, 70, 80, 6, 230, 500, 20]\n"
     ]
    }
   ],
   "source": [
    "flag = True\n",
    "\n",
    "while flag:\n",
    "    novoProduto = input(\"insira o nome do produto : \").strip().capitalize()\n",
    "    qtdNovoProduto = input(\"insira a quantidade em estoque : \").strip()\n",
    "\n",
    "    if novoProduto == \"\":\n",
    "        print(\"Nome de produto invalido!\")\n",
    "    elif novoProduto in produtos:\n",
    "        print(\"Produto já foi cadastrado!\")\n",
    "    elif qtdNovoProduto.isalpha():\n",
    "        print(\"Quantidade invalida!\")\n",
    "    else:\n",
    "        qtdNovoProduto = int(qtdNovoProduto)\n",
    "        produtos.append(novoProduto)\n",
    "        estoque.append((qtdNovoProduto))\n",
    "        flag = False\n",
    "\n",
    "try:\n",
    "    produtos.remove(\"\")\n",
    "    estoque.remove(\"\")\n",
    "except:\n",
    "    print(\"Não há campos vazios\")\n",
    "    print(produtos)\n",
    "    print(estoque)"
   ]
  },
  {
   "cell_type": "code",
   "execution_count": 82,
   "metadata": {},
   "outputs": [],
   "source": [
    "batch = int(input(\"Quantos produtos você gostaria de adicionar?\"))\n",
    "batchProduto = []\n",
    "BatchQtdProduto = []\n",
    "flag = True\n",
    "i = 0\n",
    "\n",
    "while flag:\n",
    "    while i < batch:\n",
    "        novoProduto = input(\"insira o nome do produto : \").strip().capitalize()\n",
    "        qtdNovoProduto = input(\"insira a quantidade em estoque : \").strip()\n",
    "        if novoProduto == \"\":\n",
    "            print(\"Nome de produto invalido!\")\n",
    "        elif novoProduto in produtos:\n",
    "            print(\"Produto já foi cadastrado!\")\n",
    "        elif qtdNovoProduto.isalpha():\n",
    "            print(\"Quantidade invalida!\")\n",
    "        qtdNovoProduto = int(qtdNovoProduto)\n",
    "        batchProduto.append(novoProduto)\n",
    "        BatchQtdProduto.append(qtdNovoProduto)\n",
    "        i += 1        \n",
    "    if input(\"Gostaria de cadastrar mais produtos? (s/n)\") == \"s\":\n",
    "        i = 0\n",
    "        batch = int(input(\"Quantos produtos você gostaria de adicionar?\"))\n",
    "    else:\n",
    "        flag = False\n",
    "\n",
    "produtos.extend(batchProduto)\n",
    "estoque.extend(BatchQtdProduto)"
   ]
  },
  {
   "cell_type": "code",
   "execution_count": 83,
   "metadata": {},
   "outputs": [
    {
     "name": "stdout",
     "output_type": "stream",
     "text": [
      "Temos 60 unidades de Copos em estoque!\n"
     ]
    }
   ],
   "source": [
    "flag = True\n",
    "\n",
    "while flag:\n",
    "    consultarProduto = input(\"Consulte um produto : \").capitalize()\n",
    "    if consultarProduto in produtos:\n",
    "        i = produtos.index(consultarProduto)\n",
    "        print(\"Temos {} unidades de {} em estoque!\".format(estoque[i],produtos[i]))\n",
    "        flag = False\n",
    "    else:\n",
    "        print(\"produto invalido ou não cadastrado!\")"
   ]
  },
  {
   "cell_type": "code",
   "execution_count": 66,
   "metadata": {},
   "outputs": [
    {
     "name": "stdout",
     "output_type": "stream",
     "text": [
      "O produto com menor quantidade de unidades em estoque é o : Hq mano da lua com apenas 1 unidades!\n",
      "O produto com maior quantidade de unidades em estoque é o : Playstation com 1000 unidades\n"
     ]
    }
   ],
   "source": [
    "menorQtd = min(estoque)\n",
    "i = estoque.index(menorQtd)\n",
    "\n",
    "print(\"O produto com menor quantidade de unidades em estoque é o : {} com apenas {} unidades!\".format(produtos[i],menorQtd))\n",
    "\n",
    "maiorQtd = max(estoque)\n",
    "i = estoque.index(maiorQtd)\n",
    "\n",
    "print(\"O produto com maior quantidade de unidades em estoque é o : {} com {} unidades\".format(produtos[i],maiorQtd))\n"
   ]
  },
  {
   "cell_type": "code",
   "execution_count": 84,
   "metadata": {},
   "outputs": [
    {
     "name": "stdout",
     "output_type": "stream",
     "text": [
      "Produto invalido\n",
      "Produto invalido\n",
      "['Tv', 'Playstation', 'Monitor', 'Mouse', 'Teclado', 'Geladeira', 'Jaqueta', 'Mousepad', 'Action figure', 'Controle 8bit do', 'Ps4', 'Hq mano da lua', 'Hq mano da lua versão golden', 'Caneta', 'Lapis', 'Copo', 'Album de rock', 'Poster zelda', '8 ball', 'Nunchaku', 'Baralho', 'Nintendo 64', 'Giftcard', 'Bicicleta', 'Memoria ram 8gb', 'Placa mãe', 'Carregador', 'Relogio', 'Gabinete gamer']\n",
      "[100, 1000, 200, 30, 40, 50, 500, 40, 20, 300, 100, 1, 20, 400, 900, 40, 50, 70, 80, 6, 230, 500, 20, 40, 200, 47, 70, 10, 10]\n"
     ]
    }
   ],
   "source": [
    "flag = True\n",
    "\n",
    "while flag:\n",
    "    remover = input(\"Qual produto você deseja remover?\").capitalize()\n",
    "    if remover in produtos:\n",
    "        removerEstoque = produtos.index(remover)\n",
    "        produtos.remove(remover)\n",
    "        estoque.pop(removerEstoque)\n",
    "        flag = False\n",
    "    else:\n",
    "        print(\"Produto invalido\")\n",
    "\n",
    "# produtos.pop(-1)\n",
    "# estoque.pop(-1)\n",
    "\n",
    "print(produtos)\n",
    "print(estoque)"
   ]
  },
  {
   "cell_type": "code",
   "execution_count": 88,
   "metadata": {},
   "outputs": [
    {
     "name": "stdout",
     "output_type": "stream",
     "text": [
      "29\n",
      "29\n",
      "Tv\n",
      "Playstation\n",
      "Monitor\n",
      "Mouse\n",
      "Teclado\n",
      "Geladeira\n",
      "Jaqueta\n",
      "Mousepad\n",
      "Action figure\n",
      "Controle 8bit do\n",
      "Ps4\n",
      "Hq mano da lua\n",
      "Hq mano da lua versão golden\n",
      "Caneta\n",
      "Lapis\n",
      "Copo\n",
      "Album de rock\n",
      "Poster zelda\n",
      "8 ball\n",
      "Nunchaku\n",
      "Baralho\n",
      "Nintendo 64\n",
      "Giftcard\n",
      "Bicicleta\n",
      "Memoria ram 8gb\n",
      "Placa mãe\n",
      "Carregador\n",
      "Relogio\n",
      "Gabinete gamer\n",
      "[100, 1000, 200, 30, 40, 50, 500, 40, 20, 300, 100, 1, 20, 400, 900, 40, 50, 70, 80, 6, 230, 500, 20, 40, 200, 47, 70, 10, 10]\n"
     ]
    }
   ],
   "source": [
    "print(len(produtos))\n",
    "print(len(estoque))\n",
    "\n",
    "print(\"\\n\".join(produtos))\n",
    "print(estoque)"
   ]
  }
 ],
 "metadata": {
  "kernelspec": {
   "display_name": "Python 3",
   "language": "python",
   "name": "python3"
  },
  "language_info": {
   "codemirror_mode": {
    "name": "ipython",
    "version": 3
   },
   "file_extension": ".py",
   "mimetype": "text/x-python",
   "name": "python",
   "nbconvert_exporter": "python",
   "pygments_lexer": "ipython3",
   "version": "3.12.1"
  }
 },
 "nbformat": 4,
 "nbformat_minor": 2
}
