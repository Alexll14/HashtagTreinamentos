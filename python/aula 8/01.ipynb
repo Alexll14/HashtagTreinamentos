{
 "cells": [
  {
   "cell_type": "code",
   "execution_count": 1,
   "metadata": {},
   "outputs": [],
   "source": [
    "# produtos = [\"tv\",\"playstation\",\"monitor\",\"mouse\",\"teclado\",\"geladeira\"]\n",
    "# estoque = [100,1000,200,30,40,50]\n",
    "\n",
    "# i = produtos.index(\"monitor\")\n",
    "# print(i)\n",
    "\n",
    "produtos = []\n",
    "estoque = []"
   ]
  },
  {
   "cell_type": "code",
   "execution_count": 2,
   "metadata": {},
   "outputs": [
    {
     "name": "stdout",
     "output_type": "stream",
     "text": [
      "Não há campos vazios\n",
      "['Mouse gamer red dragon']\n",
      "[100]\n"
     ]
    }
   ],
   "source": [
    "flag = True\n",
    "\n",
    "while flag:\n",
    "    novoProduto = input(\"insira o nome do produto : \").strip().capitalize()\n",
    "    qtdNovoProduto = input(\"insira a quantidade em estoque : \").strip()\n",
    "\n",
    "    if novoProduto == \"\":\n",
    "        print(\"Nome de produto invalido!\")\n",
    "    elif novoProduto in produtos:\n",
    "        print(\"Produto já foi cadastrado!\")\n",
    "    elif qtdNovoProduto.isalpha():\n",
    "        print(\"Quantidade invalida!\")\n",
    "    else:\n",
    "        qtdNovoProduto = int(qtdNovoProduto)\n",
    "        produtos.append(novoProduto)\n",
    "        estoque.append((qtdNovoProduto))\n",
    "        flag = False\n",
    "\n",
    "try:\n",
    "    produtos.remove(\"\")\n",
    "    estoque.remove(\"\")\n",
    "except:\n",
    "    print(\"Não há campos vazios\")\n",
    "    print(produtos)\n",
    "    print(estoque)"
   ]
  },
  {
   "cell_type": "code",
   "execution_count": 14,
   "metadata": {},
   "outputs": [],
   "source": [
    "batch = int(input(\"Quantos produtos você gostaria de adicionar?\"))\n",
    "batchProduto = []\n",
    "BatchQtdProduto = []\n",
    "flag = True\n",
    "i = 0\n",
    "\n",
    "while flag:\n",
    "    while i < batch:\n",
    "        novoProduto = input(\"insira o nome do produto : \").strip().capitalize()\n",
    "        qtdNovoProduto = input(\"insira a quantidade em estoque : \").strip()\n",
    "        if novoProduto == \"\":\n",
    "            print(\"Nome de produto invalido!\")\n",
    "        elif novoProduto in produtos:\n",
    "            print(\"Produto já foi cadastrado!\")\n",
    "        elif qtdNovoProduto.isalpha():\n",
    "            print(\"Quantidade invalida!\")\n",
    "        qtdNovoProduto = int(qtdNovoProduto)\n",
    "        batchProduto.append(novoProduto)\n",
    "        BatchQtdProduto.append(qtdNovoProduto)\n",
    "        i += 1        \n",
    "    if input(\"Gostaria de cadastrar mais produtos? (s/n)\") == \"s\":\n",
    "        i = 0\n",
    "        batch = int(input(\"Quantos produtos você gostaria de adicionar?\"))\n",
    "    else:\n",
    "        flag = False\n",
    "\n",
    "produtos.extend(batchProduto)\n",
    "estoque.extend(BatchQtdProduto)"
   ]
  },
  {
   "cell_type": "code",
   "execution_count": 4,
   "metadata": {},
   "outputs": [
    {
     "name": "stdout",
     "output_type": "stream",
     "text": [
      "produto invalido ou não cadastrado!\n",
      "produto invalido ou não cadastrado!\n",
      "Temos 100 unidades de Xbox series x em estoque!\n"
     ]
    }
   ],
   "source": [
    "flag = True\n",
    "\n",
    "while flag:\n",
    "    consultarProduto = input(\"Consulte um produto : \").capitalize()\n",
    "    if consultarProduto in produtos:\n",
    "        i = produtos.index(consultarProduto)\n",
    "        print(\"Temos {} unidades de {} em estoque!\".format(estoque[i],produtos[i]))\n",
    "        flag = False\n",
    "    else:\n",
    "        print(\"produto invalido ou não cadastrado!\")"
   ]
  },
  {
   "cell_type": "code",
   "execution_count": 8,
   "metadata": {},
   "outputs": [
    {
     "name": "stdout",
     "output_type": "stream",
     "text": [
      "O produto com menor quantidade de unidades em estoque é o : Action figure zelda com apenas 40 unidades!\n",
      "O produto com maior quantidade de unidades em estoque é o : Cadeira gamer com 600 unidades\n"
     ]
    }
   ],
   "source": [
    "menorQtd = min(estoque)\n",
    "i = estoque.index(menorQtd)\n",
    "\n",
    "print(\"O produto com menor quantidade de unidades em estoque é o : {} com apenas {} unidades!\".format(produtos[i],menorQtd))\n",
    "\n",
    "maiorQtd = max(estoque)\n",
    "i = estoque.index(maiorQtd)\n",
    "\n",
    "print(\"O produto com maior quantidade de unidades em estoque é o : {} com {} unidades\".format(produtos[i],maiorQtd))"
   ]
  },
  {
   "cell_type": "code",
   "execution_count": 20,
   "metadata": {},
   "outputs": [],
   "source": [
    "alterarProduto = input(\"Qual o produto que você quer alterar ? \").capitalize()\n",
    "\n",
    "novoProduto = input(\"insira o novo nome do produto : \").strip().capitalize()\n",
    "qtdNovoProduto = input(\"insira a quantidade em estoque : \").strip()\n",
    "if novoProduto == \"\":\n",
    "    print(\"Nome de produto invalido!\")\n",
    "elif novoProduto in produtos:\n",
    "    print(\"Produto já foi cadastrado!\")\n",
    "elif qtdNovoProduto.isalpha():\n",
    "    print(\"Quantidade invalida!\")\n",
    "\n",
    "i = produtos.index(alterarProduto)\n",
    "qtdNovoProduto = int(qtdNovoProduto)\n",
    "estoque[i] = qtdNovoProduto\n",
    "produtos[i] = novoProduto\n",
    "\n"
   ]
  },
  {
   "cell_type": "code",
   "execution_count": 12,
   "metadata": {},
   "outputs": [
    {
     "name": "stdout",
     "output_type": "stream",
     "text": [
      "Produto removido com sucesso!\n",
      "['Mouse gamer red dragon', 'Teclado mecanico', 'Mouse pad gamer', 'Action figure zelda', 'Cadeira gamer', 'Gamepad 8bit do', 'Playstation 4', 'Xbox series x']\n",
      "[100, 150, 150, 40, 600, 200, 100, 100]\n"
     ]
    }
   ],
   "source": [
    "flag = True\n",
    "\n",
    "while flag:\n",
    "    remover = input(\"Qual produto você deseja remover?\").capitalize()\n",
    "    if remover in produtos:\n",
    "        removerEstoque = produtos.index(remover)\n",
    "        produtos.remove(remover)\n",
    "        estoque.pop(removerEstoque)\n",
    "        print(\"Produto removido com sucesso!\")\n",
    "        flag = False\n",
    "    else:\n",
    "        print(\"Produto invalido\")\n",
    "\n",
    "# produtos.pop(-1)\n",
    "# estoque.pop(-1)\n",
    "\n",
    "print(produtos)\n",
    "print(estoque)"
   ]
  },
  {
   "cell_type": "code",
   "execution_count": 21,
   "metadata": {},
   "outputs": [
    {
     "name": "stdout",
     "output_type": "stream",
     "text": [
      "9\n",
      "9\n",
      "Mouse gamer red dragon\n",
      "Teclado mecanico\n",
      "Mouse pad gamer\n",
      "Action figure zelda\n",
      "Cadeira gamer\n",
      "Gamepad 8bit do\n",
      "Playstation 4\n",
      "Xbox series x\n",
      "Monitor\n",
      "[100, 150, 150, 40, 600, 200, 100, 100, 100]\n"
     ]
    }
   ],
   "source": [
    "print(len(produtos))\n",
    "print(len(estoque))\n",
    "\n",
    "print(\"\\n\".join(produtos))\n",
    "print(estoque)"
   ]
  }
 ],
 "metadata": {
  "kernelspec": {
   "display_name": "Python 3",
   "language": "python",
   "name": "python3"
  },
  "language_info": {
   "codemirror_mode": {
    "name": "ipython",
    "version": 3
   },
   "file_extension": ".py",
   "mimetype": "text/x-python",
   "name": "python",
   "nbconvert_exporter": "python",
   "pygments_lexer": "ipython3",
   "version": "3.12.1"
  }
 },
 "nbformat": 4,
 "nbformat_minor": 2
}
