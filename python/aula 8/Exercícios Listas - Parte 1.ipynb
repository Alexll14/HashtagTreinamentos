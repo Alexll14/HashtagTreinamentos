{
 "cells": [
  {
   "cell_type": "markdown",
   "metadata": {},
   "source": [
    "# Exercícios\n",
    "\n",
    "## 1. Faturamento do Melhor e do Pior Mês do Ano\n",
    "\n",
    "Qual foi o valor de vendas do melhor mês do Ano?\n",
    "E valor do pior mês do ano?"
   ]
  },
  {
   "cell_type": "code",
   "execution_count": 59,
   "metadata": {},
   "outputs": [
    {
     "name": "stdout",
     "output_type": "stream",
     "text": [
      "O mês que menos vendeu foi dez, vendendo apenas 9650\n",
      "O mês que mais vendeu foi nov, vendendo 49051\n"
     ]
    }
   ],
   "source": [
    "meses = ['jan', 'fev', 'mar', 'abr', 'mai', 'jun', 'jul', 'ago', 'set', 'out', 'nov', 'dez']\n",
    "vendas_1sem = [25000, 29000, 22200, 17750, 15870, 19900]\n",
    "vendas_2sem = [19850, 20120, 17540, 15555, 49051, 9650]\n",
    "vendas_ano = vendas_1sem + vendas_2sem\n",
    "\n",
    "vendas_min = min(vendas_ano)\n",
    "vendas_min_mes = vendas_ano.index(vendas_min)\n",
    "print(\"O mês que menos vendeu foi {}, vendendo apenas {}\".format(meses[vendas_min_mes],vendas_min))\n",
    "\n",
    "vendas_max = max(vendas_ano)\n",
    "vendas_max_mes = vendas_ano.index(vendas_max)\n",
    "print(\"O mês que mais vendeu foi {}, vendendo {}\".format(meses[vendas_max_mes],vendas_max))"
   ]
  },
  {
   "cell_type": "markdown",
   "metadata": {},
   "source": [
    "## 2. Continuação\n",
    "\n",
    "Agora relacione as duas listas para printar 'O melhor mês do ano foi {} com {} vendas' e o mesmo para o pior mês do ano.\n",
    "\n",
    "Calcule também o faturamento total do Ano e quanto que o melhor mês representou do faturamento total.\n",
    "\n",
    "Obs: Para o faturamento total, pode usar a função sum(lista) que soma todos os itens de uma lista"
   ]
  },
  {
   "cell_type": "code",
   "execution_count": 60,
   "metadata": {},
   "outputs": [
    {
     "name": "stdout",
     "output_type": "stream",
     "text": [
      "O faturamento total foi de : 261486\n",
      "O mês que mais vendeu representa 1875.86% das vendas.\n"
     ]
    }
   ],
   "source": [
    "faturamento_total = sum(vendas_ano)\n",
    "porcentagem_max = (vendas_max * 100) / faturamento_total\n",
    "print(\"O faturamento total foi de : {}\".format(faturamento_total))\n",
    "print(\"O mês que mais vendeu representa {:.2%} das vendas.\".format(porcentagem_max))\n"
   ]
  },
  {
   "cell_type": "markdown",
   "metadata": {},
   "source": [
    "## 3. Crie uma lista com o top 3 valores de vendas do ano (sem fazer \"no olho\")\n",
    "\n",
    "Dica: o método remove retira um item da lista."
   ]
  },
  {
   "cell_type": "code",
   "execution_count": 61,
   "metadata": {},
   "outputs": [
    {
     "name": "stdout",
     "output_type": "stream",
     "text": [
      "[49051, 29000, 25000]\n"
     ]
    }
   ],
   "source": [
    "vendas_ano_copia = vendas_ano.copy()\n",
    "max(vendas_ano_copia)\n",
    "\n",
    "i = 0\n",
    "top3 = []\n",
    "\n",
    "while i < 3:\n",
    "    top3.append(max(vendas_ano_copia))\n",
    "    vendas_ano_copia.remove(max(vendas_ano_copia))\n",
    "    i += 1\n",
    "\n",
    "print(top3)"
   ]
  }
 ],
 "metadata": {
  "kernelspec": {
   "display_name": "Python 3",
   "language": "python",
   "name": "python3"
  },
  "language_info": {
   "codemirror_mode": {
    "name": "ipython",
    "version": 3
   },
   "file_extension": ".py",
   "mimetype": "text/x-python",
   "name": "python",
   "nbconvert_exporter": "python",
   "pygments_lexer": "ipython3",
   "version": "3.12.1"
  }
 },
 "nbformat": 4,
 "nbformat_minor": 4
}
