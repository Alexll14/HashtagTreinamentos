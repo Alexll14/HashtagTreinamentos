{
 "cells": [
  {
   "cell_type": "code",
   "execution_count": 2,
   "metadata": {},
   "outputs": [
    {
     "name": "stdout",
     "output_type": "stream",
     "text": [
      "batemos a meta!!\n"
     ]
    }
   ],
   "source": [
    "meta = 50000\n",
    "qtd_vendidas = 65300\n",
    "\n",
    "if qtd_vendidas > meta:\n",
    "    print(\"batemos a meta!!\")\n",
    "else:\n",
    "    print(\"não batemos a meta...\")"
   ]
  },
  {
   "cell_type": "code",
   "execution_count": 6,
   "metadata": {},
   "outputs": [
    {
     "name": "stdout",
     "output_type": "stream",
     "text": [
      "Taxa de :  0.02\n"
     ]
    }
   ],
   "source": [
    "meta = 0.05\n",
    "taxa = 0\n",
    "rendimento = 0.10\n",
    "\n",
    "if rendimento > meta:\n",
    "    if rendimento > 0.20:\n",
    "        taxa = 0.04\n",
    "        print(\"Taxa de : \" , taxa)    \n",
    "    taxa = 0.02\n",
    "    print(\"Taxa de : \" , taxa)\n",
    "else:\n",
    "    taxa = 0\n",
    "    print(\"Taxa de : \" , taxa)"
   ]
  },
  {
   "cell_type": "code",
   "execution_count": 16,
   "metadata": {},
   "outputs": [
    {
     "name": "stdout",
     "output_type": "stream",
     "text": [
      "Ganhou bônus :  3500.0000000000005\n"
     ]
    }
   ],
   "source": [
    "meta = 20000\n",
    "vendas = float(input(\"vendas\"))\n",
    "\n",
    "if vendas <= meta:\n",
    "    print(\"Não ganhou bônus\")\n",
    "elif(vendas => (meta * 2)):\n",
    "    bonus = 0.07 * vendas    \n",
    "    print(\"Ganhou bônus : \" , bonus)\n",
    "else:\n",
    "    bonus = 0.03 * vendas\n",
    "    print(\"Ganhou bônus\" , bonus)"
   ]
  },
  {
   "cell_type": "code",
   "execution_count": 21,
   "metadata": {},
   "outputs": [],
   "source": [
    "email = input(\"Insira seu e-mail\")\n",
    "\n",
    "if not \"@\" in email:\n",
    "    print(\"E-mail invalido\")\n",
    "else:\n",
    "    pass"
   ]
  },
  {
   "cell_type": "code",
   "execution_count": null,
   "metadata": {},
   "outputs": [],
   "source": []
  }
 ],
 "metadata": {
  "kernelspec": {
   "display_name": "Python 3",
   "language": "python",
   "name": "python3"
  },
  "language_info": {
   "codemirror_mode": {
    "name": "ipython",
    "version": 3
   },
   "file_extension": ".py",
   "mimetype": "text/x-python",
   "name": "python",
   "nbconvert_exporter": "python",
   "pygments_lexer": "ipython3",
   "version": "3.12.1"
  }
 },
 "nbformat": 4,
 "nbformat_minor": 2
}
