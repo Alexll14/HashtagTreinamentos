{
 "cells": [
  {
   "cell_type": "markdown",
   "id": "2b04bbea",
   "metadata": {},
   "source": [
    "# Strings\n",
    "\n",
    "<span style=\"color: red;\"><b>Todos os exercícios são feitos partindo-se do pressuposto de que todas as entradas são dadas de forma correta. Casos limite não mencionados no enunciado não são abordados porque não fazem parte do exercício.</b></span>"
   ]
  },
  {
   "cell_type": "markdown",
   "id": "5b1f33b9",
   "metadata": {},
   "source": [
    "#### 1. Tamanho de strings. Faça um programa que leia 2 strings e informe o conteúdo delas seguido do seu comprimento. Informe também se as duas strings possuem o mesmo comprimento e são iguais ou diferentes no conteúdo.\n",
    "<pre>\n",
    "Compara duas strings\n",
    "String 1: Brasil Hexa 2006\n",
    "String 2: Brasil! Hexa 2006!\n",
    "Tamanho de \"Brasil Hexa 2006\": 16 caracteres\n",
    "Tamanho de \"Brasil! Hexa 2006!\": 18 caracteres\n",
    "As duas strings são de tamanhos diferentes.\n",
    "As duas strings possuem conteúdo diferente.\n",
    "</pre>"
   ]
  },
  {
   "cell_type": "code",
   "execution_count": 16,
   "id": "c492b657",
   "metadata": {},
   "outputs": [
    {
     "name": "stdout",
     "output_type": "stream",
     "text": [
      "As strings tem tamanhos diferentes, a frase 1 tem : 3 caracteres e a frase 2 tem : 7 caracteres\n",
      "As strings não tem o mesmo conteúdo\n"
     ]
    }
   ],
   "source": [
    "frase1 = input(\"Insira uma frase, texto ou palavra : \").strip()\n",
    "frase2 = input(\"Insira mais uma frase, texto ou palavra : \").strip()\n",
    "\n",
    "print(\"As strings tem o mesmo tamanho, {} caracteres\".format(len(frase1)) if len(frase1) == len(frase2) else \"As strings tem tamanhos diferentes, a frase 1 tem : {} caracteres e a frase 2 tem : {} caracteres\".format(len(frase1),len(frase2)))\n",
    "print(\"As strings tem o mesmo conteúdo\" if frase1 == frase2 else \"As strings não tem o mesmo conteúdo\")\n"
   ]
  },
  {
   "cell_type": "markdown",
   "id": "c3068a53",
   "metadata": {},
   "source": [
    "#### 2. Valida e corrige número de telefone. Faça um programa que leia um número de telefone, e corrija o número no caso deste conter somente 7 dígitos, acrescentando o '3' na frente. O usuário pode informar o número com ou sem o traço separador.\n",
    "<pre>\n",
    "Valida e corrige número de telefone\n",
    "Telefone: 461-0133\n",
    "Telefone possui 7 dígitos. Vou acrescentar o digito três na frente.\n",
    "Telefone corrigido sem formatação: 34610133\n",
    "Telefone corrigido com formatação: 3461-0133\n",
    "</pre>"
   ]
  },
  {
   "cell_type": "code",
   "execution_count": 35,
   "id": "0308566d",
   "metadata": {},
   "outputs": [
    {
     "name": "stdout",
     "output_type": "stream",
     "text": [
      "Telefone corrigido sem formatação: 31234567\n",
      "Telefone corrigido com formatação: 3123-4567\n"
     ]
    }
   ],
   "source": [
    "# Valida e corrige número de telefone\n",
    "# Telefone: 461-0133\n",
    "# Telefone possui 7 dígitos. Vou acrescentar o digito três na frente.\n",
    "# Telefone corrigido sem formatação: 34610133\n",
    "# Telefone corrigido com formatação: 3461-0133\n",
    "\n",
    "telefone = input(\"Insira o seu número : \").strip()\n",
    "\n",
    "if len(telefone) == 7 and not \"-\" in telefone or telefone.isalpha():\n",
    "    print(\"Telefone possui 7 dígitos. Vou acrescentar o digito três na frente.\")\n",
    "    telefone = \"3\" + telefone\n",
    "    print(\"Telefone corrigido sem formatação: {}\".format(telefone))\n",
    "    telefone = telefone[:4] + \"-\" + telefone[4:]\n",
    "    print(\"Telefone corrigido com formatação: {}\".format(telefone))\n",
    "elif telefone[0] == \"3\" and len(telefone) == 8:\n",
    "    print(\"Telefone corrigido sem formatação: {}\".format(telefone))\n",
    "    telefone = telefone[:4] + \"-\" + telefone[4:]\n",
    "    print(\"Telefone corrigido com formatação: {}\".format(telefone))\n",
    "else:\n",
    "    print(\"Telefone inválido\")"
   ]
  }
 ],
 "metadata": {
  "kernelspec": {
   "display_name": "Python 3 (ipykernel)",
   "language": "python",
   "name": "python3"
  },
  "language_info": {
   "codemirror_mode": {
    "name": "ipython",
    "version": 3
   },
   "file_extension": ".py",
   "mimetype": "text/x-python",
   "name": "python",
   "nbconvert_exporter": "python",
   "pygments_lexer": "ipython3",
   "version": "3.12.1"
  }
 },
 "nbformat": 4,
 "nbformat_minor": 5
}
