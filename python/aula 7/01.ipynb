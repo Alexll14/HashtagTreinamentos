{
 "cells": [
  {
   "cell_type": "code",
   "execution_count": 42,
   "metadata": {},
   "outputs": [
    {
     "name": "stdout",
     "output_type": "stream",
     "text": [
      "a\n",
      "l\n",
      "e\n",
      "x\n",
      "@\n",
      "g\n",
      "m\n",
      "a\n",
      "i\n",
      "l\n",
      ".\n",
      "c\n",
      "o\n",
      "m\n",
      "a a\n",
      ".com\n",
      "@gmail\n"
     ]
    }
   ],
   "source": [
    "email = \"alex@gmail.com\"\n",
    "nome = \"alex\"\n",
    "i = 0\n",
    "\n",
    "while i < len(email):\n",
    "    print(email[i])\n",
    "    i += 1\n",
    "\n",
    "print(nome[-4] , nome[-4])\n",
    "print(email[4:-4])\n",
    "print(email[-4:])\n",
    "\n"
   ]
  },
  {
   "cell_type": "code",
   "execution_count": 3,
   "metadata": {},
   "outputs": [
    {
     "name": "stdout",
     "output_type": "stream",
     "text": [
      " faturamento 2000 custo 500 lucro 1500\n",
      " faturamento 2000 custo 500 lucro 1500\n",
      " faturamento 2000 custo 500 lucro 1500\n"
     ]
    }
   ],
   "source": [
    "faturamento = 2000\n",
    "custo = 500\n",
    "lucro = faturamento - custo\n",
    "\n",
    "print(\" faturamento {} custo {} lucro {}\".format(faturamento,custo,lucro))\n",
    "print(f\" faturamento {faturamento} custo {custo} lucro {lucro}\")\n",
    "print(\" faturamento %d custo %d lucro %d\" % (faturamento,custo,lucro))\n"
   ]
  },
  {
   "cell_type": "code",
   "execution_count": 21,
   "metadata": {},
   "outputs": [
    {
     "name": "stdout",
     "output_type": "stream",
     "text": [
      "The lazy fox jumps over brown dog\n",
      "the lazy fox jumps over brown dog\n",
      "False\n",
      "True\n",
      "False\n",
      "9\n",
      "1\n",
      "the lazy fux jumps uver bruwn dug\n",
      "['the lazy fox ', ' over brown dog']\n",
      "the lazy fox jumps over brown dog\n",
      "THE LAZY FOX JUMPS OVER BROWN DOG\n",
      "The Lazy Fox Jumps Over Brown Dog\n"
     ]
    }
   ],
   "source": [
    "frase = \"the lazy fox jumps over brown dog\"\n",
    "\n",
    "print(frase.capitalize())\n",
    "print(frase.casefold())\n",
    "print(frase.endswith(\"brown\"))\n",
    "print(frase.endswith(\"dog\"))\n",
    "print(frase.isalnum())\n",
    "print(frase.find(\"fox\"))\n",
    "print(frase.count(\"a\"))\n",
    "print(frase.replace(\"o\",\"u\"))\n",
    "print(frase.split(\"jumps\"))\n",
    "print(frase.strip())\n",
    "print(frase.upper())\n",
    "print(frase.title())\n"
   ]
  }
 ],
 "metadata": {
  "kernelspec": {
   "display_name": "Python 3",
   "language": "python",
   "name": "python3"
  },
  "language_info": {
   "codemirror_mode": {
    "name": "ipython",
    "version": 3
   },
   "file_extension": ".py",
   "mimetype": "text/x-python",
   "name": "python",
   "nbconvert_exporter": "python",
   "pygments_lexer": "ipython3",
   "version": "3.12.1"
  }
 },
 "nbformat": 4,
 "nbformat_minor": 2
}
